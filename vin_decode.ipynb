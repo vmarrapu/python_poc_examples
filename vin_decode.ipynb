{
 "cells": [
  {
   "cell_type": "code",
   "execution_count": 1,
   "metadata": {},
   "outputs": [],
   "source": [
    "import requests\n",
    "\n",
    "\n",
    "def nhtsa_decode(vin):\n",
    "\n",
    "    url = 'https://vpic.nhtsa.dot.gov/api/vehicles/decodevinvalues/' + vin + '?format=json'\n",
    "    try:\n",
    "        r = requests.get(url)\n",
    "    except requests.Timeout:\n",
    "        print(\"nhtsa: connection timed out\")\n",
    "        return None\n",
    "    except requests.ConnectionError:\n",
    "        print(\"nhtsa: connection failed\")\n",
    "        return None\n",
    "    try:\n",
    "        jresult = r.json()\n",
    "        results = jresult['Results'][0]\n",
    "    except ValueError:\n",
    "        print(\"nhtsa: could not parse result\")\n",
    "        return None\n",
    "\n",
    "    # Strip trailing spaces (as in 'Hummer ')\n",
    "    for key in results:\n",
    "        results[key] = results[key].rstrip()\n",
    "\n",
    "    return results\n",
    "\t\n"
   ]
  },
  {
   "cell_type": "code",
   "execution_count": 5,
   "metadata": {},
   "outputs": [
    {
     "name": "stdout",
     "output_type": "stream",
     "text": [
      "{'ABS': 'Standard', 'ActiveSafetySysNote': '', 'AdaptiveCruiseControl': '', 'AdaptiveDrivingBeam': '', 'AdaptiveHeadlights': '', 'AdditionalErrorText': '', 'AirBagLocCurtain': 'All Rows', 'AirBagLocFront': '1st Row (Driver & Passenger)', 'AirBagLocKnee': '1st Row (Driver & Passenger)', 'AirBagLocSeatCushion': '', 'AirBagLocSide': '1st Row (Driver & Passenger)', 'AutoReverseSystem': 'Standard', 'AutomaticPedestrianAlertingSound': 'Standard', 'AxleConfiguration': '', 'Axles': '2', 'BasePrice': '36620.00', 'BatteryA': '', 'BatteryA_to': '', 'BatteryCells': '', 'BatteryInfo': '', 'BatteryKWh': '', 'BatteryKWh_to': '', 'BatteryModules': '', 'BatteryPacks': '', 'BatteryType': '', 'BatteryV': '', 'BatteryV_to': '', 'BedLengthIN': '', 'BedType': 'Not Applicable', 'BlindSpotMon': 'Optional', 'BodyCabType': 'Not Applicable', 'BodyClass': 'Hatchback/Liftback/Notchback', 'BrakeSystemDesc': '', 'BrakeSystemType': '', 'BusFloorConfigType': 'Not Applicable', 'BusLength': '', 'BusType': 'Not Applicable', 'CAN_AACN': 'Standard', 'CIB': '', 'CashForClunkers': '', 'ChargerLevel': '', 'ChargerPowerKW': '', 'CoolingType': '', 'CurbWeightLB': '', 'CustomMotorcycleType': 'Not Applicable', 'DaytimeRunningLight': 'Standard', 'DestinationMarket': '', 'DisplacementCC': '', 'DisplacementCI': '', 'DisplacementL': '', 'Doors': '4', 'DriveType': '', 'DriverAssist': '', 'DynamicBrakeSupport': 'Standard', 'EDR': '', 'ESC': 'Standard', 'EVDriveUnit': '', 'ElectrificationLevel': 'BEV (Battery Electric Vehicle)', 'EngineConfiguration': '', 'EngineCycles': '', 'EngineCylinders': '', 'EngineHP': '200', 'EngineHP_to': '', 'EngineKW': '149.1400', 'EngineManufacturer': '', 'EngineModel': '', 'EntertainmentSystem': '', 'ErrorCode': '0', 'ErrorText': '0 - VIN decoded clean. Check Digit (9th position) is correct', 'ForwardCollisionWarning': '', 'FuelInjectionType': '', 'FuelTypePrimary': 'Electric', 'FuelTypeSecondary': '', 'GCWR': '', 'GCWR_to': '', 'GVWR': '', 'GVWR_to': '', 'KeylessIgnition': 'Standard', 'LaneDepartureWarning': '', 'LaneKeepSystem': '', 'LowerBeamHeadlampLightSource': '', 'Make': 'CHEVROLET', 'MakeID': '467', 'Manufacturer': 'GENERAL MOTORS LLC', 'ManufacturerId': '984', 'Model': 'Bolt EV', 'ModelID': '13672', 'ModelYear': '2017', 'MotorcycleChassisType': 'Not Applicable', 'MotorcycleSuspensionType': 'Not Applicable', 'NCSABodyType': '', 'NCSAMake': '', 'NCSAMapExcApprovedBy': '', 'NCSAMapExcApprovedOn': '', 'NCSAMappingException': '', 'NCSAModel': '', 'NCSANote': '', 'Note': '', 'OtherBusInfo': '', 'OtherEngineInfo': '', 'OtherMotorcycleInfo': '', 'OtherRestraintSystemInfo': '', 'OtherTrailerInfo': '', 'ParkAssist': '', 'PedestrianAutomaticEmergencyBraking': '', 'PlantCity': 'LANSING - GRAND RIVER', 'PlantCompanyName': 'GMNA', 'PlantCountry': 'UNITED STATES (USA)', 'PlantState': 'MICHIGAN', 'PossibleValues': '', 'Pretensioner': '', 'RearCrossTrafficAlert': '', 'RearVisibilitySystem': 'Standard', 'SAEAutomationLevel': '', 'SAEAutomationLevel_to': '', 'SeatBeltsAll': 'Manual', 'SeatRows': '2', 'Seats': '5', 'SemiautomaticHeadlampBeamSwitching': 'Standard', 'Series': 'LT', 'Series2': '', 'SteeringLocation': 'Left Hand Drive (LHD)', 'SuggestedVIN': '', 'TPMS': 'Direct', 'TopSpeedMPH': '91', 'TrackWidth': '', 'TractionControl': 'Standard', 'TrailerBodyType': 'Not Applicable', 'TrailerLength': '', 'TrailerType': 'Not Applicable', 'TransmissionSpeeds': '', 'TransmissionStyle': '', 'Trim': '', 'Trim2': '', 'Turbo': '', 'VIN': '1G1FW6S00H4150003', 'ValveTrainDesign': '', 'VehicleType': 'PASSENGER CAR', 'WheelBaseLong': '', 'WheelBaseShort': '102.40', 'WheelBaseType': '', 'WheelSizeFront': '17', 'WheelSizeRear': '17', 'Wheels': '4', 'Windows': '4'}\n"
     ]
    }
   ],
   "source": [
    "print ( nhtsa_decode('1G1FW6S00H41500031111') )"
   ]
  },
  {
   "cell_type": "code",
   "execution_count": null,
   "metadata": {},
   "outputs": [],
   "source": []
  }
 ],
 "metadata": {
  "kernelspec": {
   "display_name": "Python 3",
   "language": "python",
   "name": "python3"
  },
  "language_info": {
   "codemirror_mode": {
    "name": "ipython",
    "version": 3
   },
   "file_extension": ".py",
   "mimetype": "text/x-python",
   "name": "python",
   "nbconvert_exporter": "python",
   "pygments_lexer": "ipython3",
   "version": "3.7.3"
  }
 },
 "nbformat": 4,
 "nbformat_minor": 2
}
