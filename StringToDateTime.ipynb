{
 "cells": [
  {
   "cell_type": "markdown",
   "metadata": {},
   "source": [
    "# pd  tests i.e. string to timestamp converion.. yyyy-mm-dd HH:MM:SS.xyz Ignoring milli seconds.. Transposing the dataset via pivot functions..."
   ]
  },
  {
   "cell_type": "code",
   "execution_count": 2,
   "metadata": {
    "scrolled": true
   },
   "outputs": [],
   "source": [
    "import pandas as pd\n",
    "import numpy as np\n",
    "import matplotlib.pyplot as plt\n",
    "import seaborn as sns\n",
    "from sklearn import preprocessing\n",
    "\n",
    "\n"
   ]
  },
  {
   "cell_type": "code",
   "execution_count": 3,
   "metadata": {},
   "outputs": [
    {
     "data": {
      "text/html": [
       "<div>\n",
       "<style scoped>\n",
       "    .dataframe tbody tr th:only-of-type {\n",
       "        vertical-align: middle;\n",
       "    }\n",
       "\n",
       "    .dataframe tbody tr th {\n",
       "        vertical-align: top;\n",
       "    }\n",
       "\n",
       "    .dataframe thead th {\n",
       "        text-align: right;\n",
       "    }\n",
       "</style>\n",
       "<table border=\"1\" class=\"dataframe\">\n",
       "  <thead>\n",
       "    <tr style=\"text-align: right;\">\n",
       "      <th></th>\n",
       "      <th>vin_nbr</th>\n",
       "      <th>element_cd</th>\n",
       "      <th>element_timstm</th>\n",
       "      <th>element_val</th>\n",
       "    </tr>\n",
       "  </thead>\n",
       "  <tbody>\n",
       "    <tr>\n",
       "      <th>0</th>\n",
       "      <td>1G2FW6S00H4159848</td>\n",
       "      <td>BATTERY_LEVEL</td>\n",
       "      <td>2020-04-04 03:41:10.100</td>\n",
       "      <td>87.4</td>\n",
       "    </tr>\n",
       "    <tr>\n",
       "      <th>1</th>\n",
       "      <td>1G2FW6S00H41598488</td>\n",
       "      <td>BATTERY_LEVEL</td>\n",
       "      <td>2020-04-04 03:41:50</td>\n",
       "      <td>87.8</td>\n",
       "    </tr>\n",
       "    <tr>\n",
       "      <th>2</th>\n",
       "      <td>1G2FW6S00H4159848</td>\n",
       "      <td>EV_RANGE</td>\n",
       "      <td>2020-04-04 03:41:10.100</td>\n",
       "      <td>200.0</td>\n",
       "    </tr>\n",
       "    <tr>\n",
       "      <th>3</th>\n",
       "      <td>1G2FW6S00H41598488</td>\n",
       "      <td>EV_RANGE</td>\n",
       "      <td>2020-04-04 03:41:50</td>\n",
       "      <td>300.0</td>\n",
       "    </tr>\n",
       "  </tbody>\n",
       "</table>\n",
       "</div>"
      ],
      "text/plain": [
       "              vin_nbr     element_cd           element_timstm  element_val\n",
       "0   1G2FW6S00H4159848  BATTERY_LEVEL  2020-04-04 03:41:10.100         87.4\n",
       "1  1G2FW6S00H41598488  BATTERY_LEVEL      2020-04-04 03:41:50         87.8\n",
       "2   1G2FW6S00H4159848       EV_RANGE  2020-04-04 03:41:10.100        200.0\n",
       "3  1G2FW6S00H41598488       EV_RANGE      2020-04-04 03:41:50        300.0"
      ]
     },
     "execution_count": 3,
     "metadata": {},
     "output_type": "execute_result"
    }
   ],
   "source": [
    "data = pd.read_csv('datasets/bolt_bat_dist_c.csv')\n",
    "data.head(5)"
   ]
  },
  {
   "cell_type": "code",
   "execution_count": 5,
   "metadata": {},
   "outputs": [
    {
     "data": {
      "text/plain": [
       "vin_nbr            object\n",
       "element_cd         object\n",
       "element_timstm     object\n",
       "element_val       float64\n",
       "dtype: object"
      ]
     },
     "execution_count": 5,
     "metadata": {},
     "output_type": "execute_result"
    }
   ],
   "source": [
    "data.dtypes\n"
   ]
  },
  {
   "cell_type": "code",
   "execution_count": 6,
   "metadata": {},
   "outputs": [],
   "source": [
    "#data['element_timstm'] = pd.to_datetime(data['element_timstm'], format='%Y-%m-%d %I:%M:%S',errors='ignore')\n",
    "#data.dtypes...coerce is other option to set NA\n",
    "\n",
    "import datetime as dt\n",
    "import time\n",
    "data['element_timstm'] = data['element_timstm'].apply(lambda x:time.strftime('%m/%d/%Y %I:%M:%S', time.strptime(x.split('.')[0],'%Y-%m-%d %H:%M:%S') ) )\n"
   ]
  },
  {
   "cell_type": "code",
   "execution_count": 7,
   "metadata": {},
   "outputs": [
    {
     "data": {
      "text/plain": [
       "vin_nbr            object\n",
       "element_cd         object\n",
       "element_timstm     object\n",
       "element_val       float64\n",
       "dtype: object"
      ]
     },
     "execution_count": 7,
     "metadata": {},
     "output_type": "execute_result"
    }
   ],
   "source": [
    "data.head(5)\n",
    "data.dtypes"
   ]
  },
  {
   "cell_type": "code",
   "execution_count": 8,
   "metadata": {},
   "outputs": [],
   "source": [
    "res = data.pivot_table(index=['vin_nbr', 'element_timstm'], columns='element_cd',\n",
    "                     values='element_val', aggfunc='first').reset_index()"
   ]
  },
  {
   "cell_type": "code",
   "execution_count": null,
   "metadata": {},
   "outputs": [],
   "source": [
    "data.dtypes"
   ]
  },
  {
   "cell_type": "code",
   "execution_count": 9,
   "metadata": {},
   "outputs": [
    {
     "data": {
      "text/html": [
       "<div>\n",
       "<style scoped>\n",
       "    .dataframe tbody tr th:only-of-type {\n",
       "        vertical-align: middle;\n",
       "    }\n",
       "\n",
       "    .dataframe tbody tr th {\n",
       "        vertical-align: top;\n",
       "    }\n",
       "\n",
       "    .dataframe thead th {\n",
       "        text-align: right;\n",
       "    }\n",
       "</style>\n",
       "<table border=\"1\" class=\"dataframe\">\n",
       "  <thead>\n",
       "    <tr style=\"text-align: right;\">\n",
       "      <th>element_cd</th>\n",
       "      <th>vin_nbr</th>\n",
       "      <th>element_timstm</th>\n",
       "      <th>BATTERY_LEVEL</th>\n",
       "      <th>EV_RANGE</th>\n",
       "    </tr>\n",
       "  </thead>\n",
       "  <tbody>\n",
       "    <tr>\n",
       "      <th>0</th>\n",
       "      <td>1G2FW6S00H4159848</td>\n",
       "      <td>04/04/2020 03:41:10</td>\n",
       "      <td>87.4</td>\n",
       "      <td>200.0</td>\n",
       "    </tr>\n",
       "    <tr>\n",
       "      <th>1</th>\n",
       "      <td>1G2FW6S00H41598488</td>\n",
       "      <td>04/04/2020 03:41:50</td>\n",
       "      <td>87.8</td>\n",
       "      <td>300.0</td>\n",
       "    </tr>\n",
       "  </tbody>\n",
       "</table>\n",
       "</div>"
      ],
      "text/plain": [
       "element_cd             vin_nbr       element_timstm  BATTERY_LEVEL  EV_RANGE\n",
       "0            1G2FW6S00H4159848  04/04/2020 03:41:10           87.4     200.0\n",
       "1           1G2FW6S00H41598488  04/04/2020 03:41:50           87.8     300.0"
      ]
     },
     "execution_count": 9,
     "metadata": {},
     "output_type": "execute_result"
    }
   ],
   "source": [
    "res.head(5)"
   ]
  },
  {
   "cell_type": "code",
   "execution_count": 10,
   "metadata": {},
   "outputs": [
    {
     "data": {
      "text/plain": [
       "(2, 4)"
      ]
     },
     "execution_count": 10,
     "metadata": {},
     "output_type": "execute_result"
    }
   ],
   "source": [
    "res.count()\n",
    "res.shape"
   ]
  },
  {
   "cell_type": "code",
   "execution_count": 11,
   "metadata": {},
   "outputs": [
    {
     "name": "stdout",
     "output_type": "stream",
     "text": [
      "2\n",
      "4\n"
     ]
    }
   ],
   "source": [
    "data2 = res.dropna()\n",
    "r, c = data2.shape\n",
    "print(r)\n",
    "print ( c)"
   ]
  },
  {
   "cell_type": "code",
   "execution_count": null,
   "metadata": {
    "scrolled": true
   },
   "outputs": [],
   "source": [
    "data2.head"
   ]
  },
  {
   "cell_type": "code",
   "execution_count": null,
   "metadata": {},
   "outputs": [],
   "source": [
    "data2.to_csv(\"datasets/volt_bat_dist_poc_out_sec.csv\",index=False)"
   ]
  },
  {
   "cell_type": "code",
   "execution_count": null,
   "metadata": {},
   "outputs": [],
   "source": []
  }
 ],
 "metadata": {
  "kernelspec": {
   "display_name": "Python 3",
   "language": "python",
   "name": "python3"
  },
  "language_info": {
   "codemirror_mode": {
    "name": "ipython",
    "version": 3
   },
   "file_extension": ".py",
   "mimetype": "text/x-python",
   "name": "python",
   "nbconvert_exporter": "python",
   "pygments_lexer": "ipython3",
   "version": "3.7.3"
  }
 },
 "nbformat": 4,
 "nbformat_minor": 2
}
