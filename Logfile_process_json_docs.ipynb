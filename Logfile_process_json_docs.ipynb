{
 "cells": [
  {
   "cell_type": "code",
   "execution_count": 1,
   "metadata": {},
   "outputs": [
    {
     "name": "stdout",
     "output_type": "stream",
     "text": [
      "IOT device log file parsing...\n"
     ]
    }
   ],
   "source": [
    "print ('IOT device log file parsing...')\n"
   ]
  },
  {
   "cell_type": "code",
   "execution_count": 2,
   "metadata": {},
   "outputs": [],
   "source": [
    "import fileinput\n",
    "import json\n",
    "import pandas as pd\n",
    "\n",
    "#location of input file which contains many log message. we are parsing subset of JSON messages\n",
    "LOG_PATH = 'D:\\\\a_2018\\\\2019\\\\sd_global_b\\\\ven_out.txt'\n",
    "\n",
    "#outfile\n",
    "outFile = 'D:\\\\a_2018\\\\2019\\\\sd_global_b\\\\ven_lng.txt'\n",
    "\n",
    "#list of attributes\n",
    "mylist = ['vin','lat','lng']\n",
    "\n",
    "##for processing nested JSON for some keys\n",
    "def extract_values(obj, key):\n",
    "    \"\"\"Pull all values of specified key from nested JSON.\"\"\"\n",
    "    arr = []\n",
    "\n",
    "    def extract(obj, arr, key):\n",
    "        \"\"\"Recursively search for values of key in JSON tree.\"\"\"\n",
    "        if isinstance(obj, dict):\n",
    "            for k, v in obj.items():\n",
    "                if isinstance(v, (dict, list)):\n",
    "                    extract(v, arr, key)\n",
    "                elif k in key:\n",
    "                    #print (v) \n",
    "                    arr.append(v)\n",
    "        elif isinstance(obj, list):\n",
    "            for item in obj:\n",
    "                extract(item, arr, key)\n",
    "        return arr\n",
    "\n",
    "    results = extract(obj, arr, key)\n",
    "    return results\n",
    "\n",
    "# process the incoming log file..\n",
    "###log file is supposed to contains location of devie after CreateTime token\n",
    "def process(line):\n",
    "   valid = 'CreateTime'\n",
    "   length = len(valid)\n",
    "   pos = line.find(valid)\n",
    "   if ( pos > 0):\n",
    "       msg = line[pos+length:]  ### pick entier string after CreateTime\n",
    "       data = json.loads(msg)\n",
    "       return data\n",
    "\n",
    "\n",
    "df = pd.DataFrame(columns=['VIN','LAT','LNG'])\n",
    "\n",
    "for line in fileinput.FileInput(LOG_PATH):\n",
    "    data = process(line)\n",
    "    if (data):\n",
    "        names = extract_values( data , mylist)\n",
    "        if ( len(names) == 3):\n",
    "            vin=names[0]\n",
    "            lat=names[1]\n",
    "            lng=names[2]\n",
    "            aRow = pd.Series(data={'VIN':vin,'LAT':lat,'LNG':lng})\n",
    "            df = df.append(aRow,ignore_index=True)\n",
    "fileinput.close()   \n"
   ]
  },
  {
   "cell_type": "code",
   "execution_count": 3,
   "metadata": {},
   "outputs": [
    {
     "data": {
      "text/plain": [
       "(47, 3)"
      ]
     },
     "execution_count": 3,
     "metadata": {},
     "output_type": "execute_result"
    }
   ],
   "source": [
    "df.shape"
   ]
  },
  {
   "cell_type": "code",
   "execution_count": 7,
   "metadata": {},
   "outputs": [],
   "source": [
    "import gmplot\n",
    "#import gmaps\n",
    "\n",
    "## convert str to flots. \n",
    "\n",
    "df['LAT'] = df['LAT'].astype(float)\n",
    "df['LNG'] = df['LNG'].astype(float)\n",
    "latitudes = df[\"LAT\"]\n",
    "longitudes = df[\"LNG\"]\n",
    "\n",
    "#locations = df[\"LAT\",\"LNG\"]\n",
    "\n",
    "#fig = gmaps.figure(map_type='HYBRID')\n",
    "#heatmap_layer = gmaps.heatmap_layer(locations)\n",
    "#fig.add_layer(heatmap_layer)\n",
    "#fig\n",
    "\n",
    "gmap = gmplot.GoogleMapPlotter(46.0436,  -73.1129, 10) #some base point\n",
    "gmap.heatmap(latitudes, longitudes)\n",
    "gmap.draw(\"D:\\\\a_2018\\\\map15.html\")"
   ]
  },
  {
   "cell_type": "code",
   "execution_count": null,
   "metadata": {},
   "outputs": [],
   "source": [
    "### TML file was generated. Atatch it"
   ]
  }
 ],
 "metadata": {
  "kernelspec": {
   "display_name": "Python 3",
   "language": "python",
   "name": "python3"
  },
  "language_info": {
   "codemirror_mode": {
    "name": "ipython",
    "version": 3
   },
   "file_extension": ".py",
   "mimetype": "text/x-python",
   "name": "python",
   "nbconvert_exporter": "python",
   "pygments_lexer": "ipython3",
   "version": "3.7.3"
  }
 },
 "nbformat": 4,
 "nbformat_minor": 2
}
